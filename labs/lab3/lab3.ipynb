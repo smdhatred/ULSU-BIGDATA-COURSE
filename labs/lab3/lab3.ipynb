{
 "cells": [
  {
   "cell_type": "markdown",
   "metadata": {},
   "source": [
    "![zebrains_logo](../../images/logo-zebrains-dark.svg)\n",
    "## Кафедра «Интеллектуальных технологий в информационных системах»"
   ]
  },
  {
   "cell_type": "markdown",
   "metadata": {},
   "source": [
    "### Лабораторная работа 3: scikit-learn; Введение в машинное обучение\n",
    "\n",
    "![](../../images/scikit_learn.svg) \n",
    "\n",
    "В данной лабораторной работе вы:\n",
    "* Познакомитесь с библиотекой машинного обучения **scikit-learn**\n",
    "* Натренируете алгоритмы машинного обучения"
   ]
  },
  {
   "cell_type": "markdown",
   "metadata": {},
   "source": [
    "## Полезные ссылки\n",
    "\n",
    "**scikit-learn**\n",
    "\n",
    "* scikit-learn.org/stable - документация библиотеки\n",
    "* "
   ]
  },
  {
   "cell_type": "markdown",
   "metadata": {},
   "source": [
    "## Задание:\n",
    "**Заполнить ячейки вида**\n",
    "```python\n",
    "# место для кода\n",
    "```\n",
    "Не стесняйтесь создавать дополнительные ячейки, писать комментарии, оформлять ноутбук. \n",
    "Рассматривайте это как интерактивный конспект, где вы что-то пишете на полях, выделяете основные места хайлайтером и т.п.\n",
    "В конечном итоге, смысл всего этого в том, что бы вам самим было понятно.\n",
    "\n",
    "**Отчет**\n",
    "Работа оценивается по коду, который вы впишете в ячейки. И результату исполнения этого кода. \n",
    "* В репозиторий залейте изменения ячейки вместе с результатом их исполнения (то, что разварачивается внизу, когда вы запускаете ячейку).\n",
    "* Учтите, что ваш код должен правильно отработать, если ноутбук будет полностью перезапущен. Будьте внимательны. Иногда случается так, что код в ячейке изменили, а запустить забыли. В выводе ячейки остался старый результат. Или, в процессе разработки, запускаются ячейки в разной последовательности. И запуск всех ячеек сверху - вниз не дает желаемый результат. Советуем вам перед сдачей перезапустить ноутбук полностью и удостовериться, что все сработало так, как вы это задумывали.\n",
    "\n",
    "**Скриншоты прикреплять в этой лабораторной не нужно**"
   ]
  },
  {
   "cell_type": "markdown",
   "metadata": {},
   "source": [
    "В сегодняшней лабораторной будем работать с данными о проданных на аукционе автомобилях (`Carvana Car Prediction`). Целевым признаком здесь является наличие скрытых продавцом существенных недостатков. \n",
    "\n",
    "Carvana &mdash; компания-перекупщик автомобилей, соответственно, ее задача &mdash; не допустить скупку автомобилей со скрытыми недостатками, так как их впоследствии тяжелее продавать."
   ]
  },
  {
   "cell_type": "markdown",
   "metadata": {},
   "source": [
    "## 1"
   ]
  },
  {
   "cell_type": "markdown",
   "metadata": {},
   "source": [
    "Загрузите данные о проданных на аукционе автомобилях. Посмотрите на \"сырые\" данные. \n",
    "\n",
    "Изучите файл Ридми в папке с лабой, что бы понять, что означают столбцы матрицы. Выведите статистику по столбцам."
   ]
  },
  {
   "cell_type": "code",
   "execution_count": 1,
   "metadata": {},
   "outputs": [],
   "source": [
    "import pandas as pd"
   ]
  },
  {
   "cell_type": "code",
   "execution_count": 2,
   "metadata": {},
   "outputs": [
    {
     "data": {
      "text/html": [
       "<div>\n",
       "<style scoped>\n",
       "    .dataframe tbody tr th:only-of-type {\n",
       "        vertical-align: middle;\n",
       "    }\n",
       "\n",
       "    .dataframe tbody tr th {\n",
       "        vertical-align: top;\n",
       "    }\n",
       "\n",
       "    .dataframe thead th {\n",
       "        text-align: right;\n",
       "    }\n",
       "</style>\n",
       "<table border=\"1\" class=\"dataframe\">\n",
       "  <thead>\n",
       "    <tr style=\"text-align: right;\">\n",
       "      <th></th>\n",
       "      <th>RefId</th>\n",
       "      <th>IsBadBuy</th>\n",
       "      <th>PurchDate</th>\n",
       "      <th>Auction</th>\n",
       "      <th>VehYear</th>\n",
       "      <th>VehicleAge</th>\n",
       "      <th>Make</th>\n",
       "      <th>Model</th>\n",
       "      <th>Trim</th>\n",
       "      <th>SubModel</th>\n",
       "      <th>...</th>\n",
       "      <th>MMRCurrentRetailAveragePrice</th>\n",
       "      <th>MMRCurrentRetailCleanPrice</th>\n",
       "      <th>PRIMEUNIT</th>\n",
       "      <th>AUCGUART</th>\n",
       "      <th>BYRNO</th>\n",
       "      <th>VNZIP1</th>\n",
       "      <th>VNST</th>\n",
       "      <th>VehBCost</th>\n",
       "      <th>IsOnlineSale</th>\n",
       "      <th>WarrantyCost</th>\n",
       "    </tr>\n",
       "  </thead>\n",
       "  <tbody>\n",
       "    <tr>\n",
       "      <th>0</th>\n",
       "      <td>1</td>\n",
       "      <td>0</td>\n",
       "      <td>12/7/2009</td>\n",
       "      <td>ADESA</td>\n",
       "      <td>2006</td>\n",
       "      <td>3</td>\n",
       "      <td>MAZDA</td>\n",
       "      <td>MAZDA3</td>\n",
       "      <td>i</td>\n",
       "      <td>4D SEDAN I</td>\n",
       "      <td>...</td>\n",
       "      <td>11597.0</td>\n",
       "      <td>12409.0</td>\n",
       "      <td>NaN</td>\n",
       "      <td>NaN</td>\n",
       "      <td>21973</td>\n",
       "      <td>33619</td>\n",
       "      <td>FL</td>\n",
       "      <td>7100.0</td>\n",
       "      <td>0</td>\n",
       "      <td>1113</td>\n",
       "    </tr>\n",
       "    <tr>\n",
       "      <th>1</th>\n",
       "      <td>2</td>\n",
       "      <td>0</td>\n",
       "      <td>12/7/2009</td>\n",
       "      <td>ADESA</td>\n",
       "      <td>2004</td>\n",
       "      <td>5</td>\n",
       "      <td>DODGE</td>\n",
       "      <td>1500 RAM PICKUP 2WD</td>\n",
       "      <td>ST</td>\n",
       "      <td>QUAD CAB 4.7L SLT</td>\n",
       "      <td>...</td>\n",
       "      <td>11374.0</td>\n",
       "      <td>12791.0</td>\n",
       "      <td>NaN</td>\n",
       "      <td>NaN</td>\n",
       "      <td>19638</td>\n",
       "      <td>33619</td>\n",
       "      <td>FL</td>\n",
       "      <td>7600.0</td>\n",
       "      <td>0</td>\n",
       "      <td>1053</td>\n",
       "    </tr>\n",
       "    <tr>\n",
       "      <th>2</th>\n",
       "      <td>3</td>\n",
       "      <td>0</td>\n",
       "      <td>12/7/2009</td>\n",
       "      <td>ADESA</td>\n",
       "      <td>2005</td>\n",
       "      <td>4</td>\n",
       "      <td>DODGE</td>\n",
       "      <td>STRATUS V6</td>\n",
       "      <td>SXT</td>\n",
       "      <td>4D SEDAN SXT FFV</td>\n",
       "      <td>...</td>\n",
       "      <td>7146.0</td>\n",
       "      <td>8702.0</td>\n",
       "      <td>NaN</td>\n",
       "      <td>NaN</td>\n",
       "      <td>19638</td>\n",
       "      <td>33619</td>\n",
       "      <td>FL</td>\n",
       "      <td>4900.0</td>\n",
       "      <td>0</td>\n",
       "      <td>1389</td>\n",
       "    </tr>\n",
       "    <tr>\n",
       "      <th>3</th>\n",
       "      <td>4</td>\n",
       "      <td>0</td>\n",
       "      <td>12/7/2009</td>\n",
       "      <td>ADESA</td>\n",
       "      <td>2004</td>\n",
       "      <td>5</td>\n",
       "      <td>DODGE</td>\n",
       "      <td>NEON</td>\n",
       "      <td>SXT</td>\n",
       "      <td>4D SEDAN</td>\n",
       "      <td>...</td>\n",
       "      <td>4375.0</td>\n",
       "      <td>5518.0</td>\n",
       "      <td>NaN</td>\n",
       "      <td>NaN</td>\n",
       "      <td>19638</td>\n",
       "      <td>33619</td>\n",
       "      <td>FL</td>\n",
       "      <td>4100.0</td>\n",
       "      <td>0</td>\n",
       "      <td>630</td>\n",
       "    </tr>\n",
       "    <tr>\n",
       "      <th>4</th>\n",
       "      <td>5</td>\n",
       "      <td>0</td>\n",
       "      <td>12/7/2009</td>\n",
       "      <td>ADESA</td>\n",
       "      <td>2005</td>\n",
       "      <td>4</td>\n",
       "      <td>FORD</td>\n",
       "      <td>FOCUS</td>\n",
       "      <td>ZX3</td>\n",
       "      <td>2D COUPE ZX3</td>\n",
       "      <td>...</td>\n",
       "      <td>6739.0</td>\n",
       "      <td>7911.0</td>\n",
       "      <td>NaN</td>\n",
       "      <td>NaN</td>\n",
       "      <td>19638</td>\n",
       "      <td>33619</td>\n",
       "      <td>FL</td>\n",
       "      <td>4000.0</td>\n",
       "      <td>0</td>\n",
       "      <td>1020</td>\n",
       "    </tr>\n",
       "    <tr>\n",
       "      <th>...</th>\n",
       "      <td>...</td>\n",
       "      <td>...</td>\n",
       "      <td>...</td>\n",
       "      <td>...</td>\n",
       "      <td>...</td>\n",
       "      <td>...</td>\n",
       "      <td>...</td>\n",
       "      <td>...</td>\n",
       "      <td>...</td>\n",
       "      <td>...</td>\n",
       "      <td>...</td>\n",
       "      <td>...</td>\n",
       "      <td>...</td>\n",
       "      <td>...</td>\n",
       "      <td>...</td>\n",
       "      <td>...</td>\n",
       "      <td>...</td>\n",
       "      <td>...</td>\n",
       "      <td>...</td>\n",
       "      <td>...</td>\n",
       "      <td>...</td>\n",
       "    </tr>\n",
       "    <tr>\n",
       "      <th>72978</th>\n",
       "      <td>73010</td>\n",
       "      <td>1</td>\n",
       "      <td>12/2/2009</td>\n",
       "      <td>ADESA</td>\n",
       "      <td>2001</td>\n",
       "      <td>8</td>\n",
       "      <td>MERCURY</td>\n",
       "      <td>SABLE</td>\n",
       "      <td>GS</td>\n",
       "      <td>4D SEDAN GS</td>\n",
       "      <td>...</td>\n",
       "      <td>4836.0</td>\n",
       "      <td>5937.0</td>\n",
       "      <td>NaN</td>\n",
       "      <td>NaN</td>\n",
       "      <td>18111</td>\n",
       "      <td>30212</td>\n",
       "      <td>GA</td>\n",
       "      <td>4200.0</td>\n",
       "      <td>0</td>\n",
       "      <td>993</td>\n",
       "    </tr>\n",
       "    <tr>\n",
       "      <th>72979</th>\n",
       "      <td>73011</td>\n",
       "      <td>0</td>\n",
       "      <td>12/2/2009</td>\n",
       "      <td>ADESA</td>\n",
       "      <td>2007</td>\n",
       "      <td>2</td>\n",
       "      <td>CHEVROLET</td>\n",
       "      <td>MALIBU 4C</td>\n",
       "      <td>LS</td>\n",
       "      <td>4D SEDAN LS</td>\n",
       "      <td>...</td>\n",
       "      <td>10151.0</td>\n",
       "      <td>11652.0</td>\n",
       "      <td>NaN</td>\n",
       "      <td>NaN</td>\n",
       "      <td>18881</td>\n",
       "      <td>30212</td>\n",
       "      <td>GA</td>\n",
       "      <td>6200.0</td>\n",
       "      <td>0</td>\n",
       "      <td>1038</td>\n",
       "    </tr>\n",
       "    <tr>\n",
       "      <th>72980</th>\n",
       "      <td>73012</td>\n",
       "      <td>0</td>\n",
       "      <td>12/2/2009</td>\n",
       "      <td>ADESA</td>\n",
       "      <td>2005</td>\n",
       "      <td>4</td>\n",
       "      <td>JEEP</td>\n",
       "      <td>GRAND CHEROKEE 2WD V</td>\n",
       "      <td>Lar</td>\n",
       "      <td>4D WAGON LAREDO</td>\n",
       "      <td>...</td>\n",
       "      <td>11831.0</td>\n",
       "      <td>14402.0</td>\n",
       "      <td>NaN</td>\n",
       "      <td>NaN</td>\n",
       "      <td>18111</td>\n",
       "      <td>30212</td>\n",
       "      <td>GA</td>\n",
       "      <td>8200.0</td>\n",
       "      <td>0</td>\n",
       "      <td>1893</td>\n",
       "    </tr>\n",
       "    <tr>\n",
       "      <th>72981</th>\n",
       "      <td>73013</td>\n",
       "      <td>0</td>\n",
       "      <td>12/2/2009</td>\n",
       "      <td>ADESA</td>\n",
       "      <td>2006</td>\n",
       "      <td>3</td>\n",
       "      <td>CHEVROLET</td>\n",
       "      <td>IMPALA</td>\n",
       "      <td>LS</td>\n",
       "      <td>4D SEDAN LS</td>\n",
       "      <td>...</td>\n",
       "      <td>10099.0</td>\n",
       "      <td>11228.0</td>\n",
       "      <td>NaN</td>\n",
       "      <td>NaN</td>\n",
       "      <td>18881</td>\n",
       "      <td>30212</td>\n",
       "      <td>GA</td>\n",
       "      <td>7000.0</td>\n",
       "      <td>0</td>\n",
       "      <td>1974</td>\n",
       "    </tr>\n",
       "    <tr>\n",
       "      <th>72982</th>\n",
       "      <td>73014</td>\n",
       "      <td>0</td>\n",
       "      <td>12/2/2009</td>\n",
       "      <td>ADESA</td>\n",
       "      <td>2006</td>\n",
       "      <td>3</td>\n",
       "      <td>MAZDA</td>\n",
       "      <td>MAZDA6</td>\n",
       "      <td>s</td>\n",
       "      <td>4D SEDAN S</td>\n",
       "      <td>...</td>\n",
       "      <td>11954.0</td>\n",
       "      <td>13246.0</td>\n",
       "      <td>NaN</td>\n",
       "      <td>NaN</td>\n",
       "      <td>18111</td>\n",
       "      <td>30212</td>\n",
       "      <td>GA</td>\n",
       "      <td>8000.0</td>\n",
       "      <td>0</td>\n",
       "      <td>1313</td>\n",
       "    </tr>\n",
       "  </tbody>\n",
       "</table>\n",
       "<p>72983 rows × 34 columns</p>\n",
       "</div>"
      ],
      "text/plain": [
       "       RefId  IsBadBuy  PurchDate Auction  VehYear  VehicleAge       Make  \\\n",
       "0          1         0  12/7/2009   ADESA     2006           3      MAZDA   \n",
       "1          2         0  12/7/2009   ADESA     2004           5      DODGE   \n",
       "2          3         0  12/7/2009   ADESA     2005           4      DODGE   \n",
       "3          4         0  12/7/2009   ADESA     2004           5      DODGE   \n",
       "4          5         0  12/7/2009   ADESA     2005           4       FORD   \n",
       "...      ...       ...        ...     ...      ...         ...        ...   \n",
       "72978  73010         1  12/2/2009   ADESA     2001           8    MERCURY   \n",
       "72979  73011         0  12/2/2009   ADESA     2007           2  CHEVROLET   \n",
       "72980  73012         0  12/2/2009   ADESA     2005           4       JEEP   \n",
       "72981  73013         0  12/2/2009   ADESA     2006           3  CHEVROLET   \n",
       "72982  73014         0  12/2/2009   ADESA     2006           3      MAZDA   \n",
       "\n",
       "                      Model Trim           SubModel  ...  \\\n",
       "0                    MAZDA3    i         4D SEDAN I  ...   \n",
       "1       1500 RAM PICKUP 2WD   ST  QUAD CAB 4.7L SLT  ...   \n",
       "2                STRATUS V6  SXT   4D SEDAN SXT FFV  ...   \n",
       "3                      NEON  SXT           4D SEDAN  ...   \n",
       "4                     FOCUS  ZX3       2D COUPE ZX3  ...   \n",
       "...                     ...  ...                ...  ...   \n",
       "72978                 SABLE   GS        4D SEDAN GS  ...   \n",
       "72979             MALIBU 4C   LS        4D SEDAN LS  ...   \n",
       "72980  GRAND CHEROKEE 2WD V  Lar    4D WAGON LAREDO  ...   \n",
       "72981                IMPALA   LS        4D SEDAN LS  ...   \n",
       "72982                MAZDA6    s         4D SEDAN S  ...   \n",
       "\n",
       "      MMRCurrentRetailAveragePrice MMRCurrentRetailCleanPrice  PRIMEUNIT  \\\n",
       "0                          11597.0                    12409.0        NaN   \n",
       "1                          11374.0                    12791.0        NaN   \n",
       "2                           7146.0                     8702.0        NaN   \n",
       "3                           4375.0                     5518.0        NaN   \n",
       "4                           6739.0                     7911.0        NaN   \n",
       "...                            ...                        ...        ...   \n",
       "72978                       4836.0                     5937.0        NaN   \n",
       "72979                      10151.0                    11652.0        NaN   \n",
       "72980                      11831.0                    14402.0        NaN   \n",
       "72981                      10099.0                    11228.0        NaN   \n",
       "72982                      11954.0                    13246.0        NaN   \n",
       "\n",
       "      AUCGUART  BYRNO VNZIP1 VNST VehBCost  IsOnlineSale  WarrantyCost  \n",
       "0          NaN  21973  33619   FL   7100.0             0          1113  \n",
       "1          NaN  19638  33619   FL   7600.0             0          1053  \n",
       "2          NaN  19638  33619   FL   4900.0             0          1389  \n",
       "3          NaN  19638  33619   FL   4100.0             0           630  \n",
       "4          NaN  19638  33619   FL   4000.0             0          1020  \n",
       "...        ...    ...    ...  ...      ...           ...           ...  \n",
       "72978      NaN  18111  30212   GA   4200.0             0           993  \n",
       "72979      NaN  18881  30212   GA   6200.0             0          1038  \n",
       "72980      NaN  18111  30212   GA   8200.0             0          1893  \n",
       "72981      NaN  18881  30212   GA   7000.0             0          1974  \n",
       "72982      NaN  18111  30212   GA   8000.0             0          1313  \n",
       "\n",
       "[72983 rows x 34 columns]"
      ]
     },
     "execution_count": 2,
     "metadata": {},
     "output_type": "execute_result"
    }
   ],
   "source": [
    "df = pd.read_csv('data.csv', delimiter = ',')\n",
    "df"
   ]
  },
  {
   "cell_type": "markdown",
   "metadata": {},
   "source": [
    "## 2\n",
    "\n",
    "Постройте график рассеяния с пробегом в качестве оси абсцисс и ценой `MMRCurrentRetailAveragePrice` в качестве оси ординат. Автомобили без недостатков отметьте зеленым цветом, со скрытыми недостатками — красным."
   ]
  },
  {
   "cell_type": "code",
   "execution_count": 3,
   "metadata": {},
   "outputs": [],
   "source": [
    "%matplotlib inline\n",
    "import matplotlib.pyplot as plt"
   ]
  },
  {
   "cell_type": "code",
   "execution_count": 4,
   "metadata": {},
   "outputs": [
    {
     "data": {
      "image/png": "[encoded data removed]",
      "text/plain": [
       "<Figure size 1008x576 with 1 Axes>"
      ]
     },
     "metadata": {
      "needs_background": "light"
     },
     "output_type": "display_data"
    }
   ],
   "source": [
    "fig, ax = plt.subplots()\n",
    "ax.scatter(df['VehOdo'].loc[df['IsBadBuy'] == 1], df['MMRCurrentRetailAveragePrice'].loc[df['IsBadBuy'] == 1], c='r',s=5)\n",
    "ax.scatter(df['VehOdo'].loc[df['IsBadBuy'] == 0], df['MMRCurrentRetailAveragePrice'].loc[df['IsBadBuy'] == 0], c='g',s=5)\n",
    "fig.set_figwidth(14)\n",
    "fig.set_figheight(8)"
   ]
  },
  {
   "cell_type": "markdown",
   "metadata": {},
   "source": [
    "# Регрессия\n",
    "\n",
    "![](../../images/linear_regression_animation.gif)"
   ]
  },
  {
   "cell_type": "markdown",
   "metadata": {},
   "source": [
    "## 3a\n",
    "\n",
    "Импортируйте из библиотеки `sklearn` все модели машинного обучения:\n",
    "\n",
    "`from sklearn import *`\n",
    "\n",
    "Трактуя задачу о предсказании наличия недостатков как задачу регрессии, натренируйте линейную модель [`LinearRegression`](https://scikit-learn.org/stable/modules/generated/sklearn.linear_model.LinearRegression.html) на каком-нибудь подмножестве признаков (например, тех же `VehOdo` и `MMRCurrentRetailAveragePrice`). \n",
    "\n",
    "С какой проблемой вы столкнулись? Какие способы ее решения вы можете предложить?\n",
    "\n",
    "*Функции, которые могут пригодиться при решении: `.fit(), .loc[], pd.notnull()`*\n",
    "\n",
    "*Создание модели:* `model1 = linear_model.LinearRegression()`\n",
    "\n",
    "*Тренировка:*\n",
    "`model1.fit(x, y)`\n",
    "\n"
   ]
  },
  {
   "cell_type": "code",
   "execution_count": 6,
   "metadata": {},
   "outputs": [
    {
     "data": {
      "text/plain": [
       "LinearRegression()"
      ]
     },
     "execution_count": 6,
     "metadata": {},
     "output_type": "execute_result"
    }
   ],
   "source": [
    "from sklearn import *\n",
    "x = pd.DataFrame(df['VehOdo']).fillna(df['VehOdo'].mean())\n",
    "y = pd.DataFrame(df['IsBadBuy']).fillna(1)\n",
    "model1 = linear_model.LinearRegression()\n",
    "model1.fit(x,y)"
   ]
  },
  {
   "cell_type": "markdown",
   "metadata": {},
   "source": [
    "*Прокоменитруйте результат здесь:*\n",
    "\n",
    "(Отредактируйте эту ячейку)"
   ]
  },
  {
   "cell_type": "markdown",
   "metadata": {},
   "source": [
    "## 3b\n",
    "\n",
    "Выполните предсказание для всех объектов обучающей выборки и присвойте результат переменной prediction\n",
    "\n",
    "*Функции, которые могут пригодиться при решении: `model.predict()`*"
   ]
  },
  {
   "cell_type": "code",
   "execution_count": 7,
   "metadata": {},
   "outputs": [
    {
     "data": {
      "text/plain": [
       "array([[0.15562088],\n",
       "       [0.16407772],\n",
       "       [0.12727828],\n",
       "       ...,\n",
       "       [0.15460539],\n",
       "       [0.13796697],\n",
       "       [0.11434844]])"
      ]
     },
     "execution_count": 7,
     "metadata": {},
     "output_type": "execute_result"
    }
   ],
   "source": [
    "prediction = model1.predict(x)\n",
    "prediction"
   ]
  },
  {
   "cell_type": "markdown",
   "metadata": {},
   "source": [
    "## 3c\n",
    "\n",
    "Преобразуйте получившийся вектор предсказаний `prediction` к значениям `{0,1}`. Это можно сделать, например, используя list comprehensions: https://docs.python.org/3/tutorial/datastructures.html#list-comprehensions \n",
    "\n",
    "`predictionClass = [1 if prediction[i] > 0.5 else 0 for i in range(prediction.shape[0])]`"
   ]
  },
  {
   "cell_type": "code",
   "execution_count": 9,
   "metadata": {},
   "outputs": [],
   "source": [
    "predictionClass = [1 if prediction[i] > 0.5 else 0 for i in range(prediction.shape[0])]"
   ]
  },
  {
   "cell_type": "markdown",
   "metadata": {},
   "source": [
    "## 3d\n",
    "\n",
    "Постройте отчет по качеству классификации и матрицу ошибок. Как изменятся отчет и матрица ошибок, если изменить порог в задании 3c (по умолчанию его значение равно 0.5)?\n",
    "\n",
    "*Функции, которые могут пригодиться при решении: `print(metrics.classification_report(...))`, `print(metrics.confusion_matrix(...))`*\n",
    "\n",
    "Функция classification_report для каждого класса объектов считает точность (precision) в этом классе и полноту (recall). Полнота - это процент объектов данного класса, которые ваш метод предсказания тоже отнес к этому классу, среди всех объектов данного класса. Точность (precision) - то же самое, только среди всех объектов, предсказанных для этого класса.\n",
    "\n",
    "Функция confusion_matrix возвращает матрицу с количествами объектов. Номера столбцов матрицы - это номера предсказанных классов, строки - это номера правильных классов. Например, элемент M[0,1] - это количество машин, где на самом деле IsBadBuy = 0, а вы предсказали 1."
   ]
  },
  {
   "cell_type": "code",
   "execution_count": 10,
   "metadata": {
    "scrolled": true
   },
   "outputs": [
    {
     "name": "stdout",
     "output_type": "stream",
     "text": [
      "              precision    recall  f1-score   support\n",
      "\n",
      "           0       0.88      1.00      0.93     64007\n",
      "           1       0.00      0.00      0.00      8976\n",
      "\n",
      "    accuracy                           0.88     72983\n",
      "   macro avg       0.44      0.50      0.47     72983\n",
      "weighted avg       0.77      0.88      0.82     72983\n",
      "\n",
      "[[64007     0]\n",
      " [ 8976     0]]\n"
     ]
    },
    {
     "name": "stderr",
     "output_type": "stream",
     "text": [
      "C:\\Users\\smd_h\\anaconda3\\lib\\site-packages\\sklearn\\metrics\\_classification.py:1248: UndefinedMetricWarning: Precision and F-score are ill-defined and being set to 0.0 in labels with no predicted samples. Use `zero_division` parameter to control this behavior.\n",
      "  _warn_prf(average, modifier, msg_start, len(result))\n",
      "C:\\Users\\smd_h\\anaconda3\\lib\\site-packages\\sklearn\\metrics\\_classification.py:1248: UndefinedMetricWarning: Precision and F-score are ill-defined and being set to 0.0 in labels with no predicted samples. Use `zero_division` parameter to control this behavior.\n",
      "  _warn_prf(average, modifier, msg_start, len(result))\n",
      "C:\\Users\\smd_h\\anaconda3\\lib\\site-packages\\sklearn\\metrics\\_classification.py:1248: UndefinedMetricWarning: Precision and F-score are ill-defined and being set to 0.0 in labels with no predicted samples. Use `zero_division` parameter to control this behavior.\n",
      "  _warn_prf(average, modifier, msg_start, len(result))\n"
     ]
    }
   ],
   "source": [
    "print(metrics.classification_report(y,predictionClass))\n",
    "print(metrics.confusion_matrix(y,predictionClass))"
   ]
  },
  {
   "cell_type": "code",
   "execution_count": 11,
   "metadata": {},
   "outputs": [
    {
     "data": {
      "text/plain": [
       "0.8770124549552636"
      ]
     },
     "execution_count": 11,
     "metadata": {},
     "output_type": "execute_result"
    }
   ],
   "source": [
    "metrics.accuracy_score(y, predictionClass)"
   ]
  },
  {
   "cell_type": "markdown",
   "metadata": {},
   "source": []
  },
  {
   "cell_type": "markdown",
   "metadata": {},
   "source": [
    "# Классификация; Решающие деревья\n",
    "\n",
    "![](../../images/tree.gif)"
   ]
  },
  {
   "cell_type": "markdown",
   "metadata": {},
   "source": [
    "## 4a\n",
    "Трактуя задачу как задачу классификации, постройте модель классификации «решающее дерево» глубины 20  (все аналогично линейной регрессии).\n",
    "\n",
    "\n",
    "*Функции, которые могут пригодиться при решении: `tree.DecisionTreeClassifier(max_depth=20) `*"
   ]
  },
  {
   "cell_type": "code",
   "execution_count": 12,
   "metadata": {},
   "outputs": [
    {
     "data": {
      "text/plain": [
       "DecisionTreeClassifier(max_depth=20)"
      ]
     },
     "execution_count": 12,
     "metadata": {},
     "output_type": "execute_result"
    }
   ],
   "source": [
    "x = pd.DataFrame(df['VehOdo']).fillna(df['VehOdo'].mean())\n",
    "y = pd.DataFrame(df['IsBadBuy']).fillna(df['IsBadBuy'].mean())\n",
    "tr=tree.DecisionTreeClassifier(max_depth=20)\n",
    "tr.fit(x,y)"
   ]
  },
  {
   "cell_type": "markdown",
   "metadata": {},
   "source": [
    "## 4b\n",
    "\n",
    "Решающее дерево предсказывает вероятности. С помощью построенной модели рассчитайте вероятности наличия скрываемых недостатков.\n",
    "\n",
    "*Функции, которые могут пригодиться при решении: `model.predict_proba() `*"
   ]
  },
  {
   "cell_type": "code",
   "execution_count": 13,
   "metadata": {},
   "outputs": [
    {
     "data": {
      "text/plain": [
       "array([[0.85616921, 0.14383079],\n",
       "       [0.82602175, 0.17397825],\n",
       "       [0.86989247, 0.13010753],\n",
       "       ...,\n",
       "       [0.85616921, 0.14383079],\n",
       "       [0.86616392, 0.13383608],\n",
       "       [0.88882353, 0.11117647]])"
      ]
     },
     "execution_count": 13,
     "metadata": {},
     "output_type": "execute_result"
    }
   ],
   "source": [
    "pred = tr.predict_proba(x)\n",
    "pred"
   ]
  },
  {
   "cell_type": "markdown",
   "metadata": {},
   "source": [
    "## 4c\n",
    "\n",
    "Преобразуйте получившийся вектор предсказаний `prediction` к значениям `{0,1}`. Постройте отчет о классификации и матрицу ошибок. Какой метод оказался лучше?"
   ]
  },
  {
   "cell_type": "code",
   "execution_count": 14,
   "metadata": {},
   "outputs": [],
   "source": [
    "predClass = [1 if pred[i][0] > 0.5 else 0 for i in range(pred.shape[0])]"
   ]
  },
  {
   "cell_type": "code",
   "execution_count": 15,
   "metadata": {},
   "outputs": [
    {
     "name": "stdout",
     "output_type": "stream",
     "text": [
      "              precision    recall  f1-score   support\n",
      "\n",
      "           0       0.29      0.01      0.02     64007\n",
      "           1       0.11      0.86      0.19      8976\n",
      "\n",
      "    accuracy                           0.11     72983\n",
      "   macro avg       0.20      0.44      0.10     72983\n",
      "weighted avg       0.27      0.11      0.04     72983\n",
      "\n",
      "[[  502 63505]\n",
      " [ 1229  7747]]\n"
     ]
    }
   ],
   "source": [
    "print(metrics.classification_report(y,predClass))\n",
    "print(metrics.confusion_matrix(y,predClass))"
   ]
  },
  {
   "cell_type": "markdown",
   "metadata": {},
   "source": [
    "Метод линейной регрессии оказался точнее"
   ]
  },
  {
   "cell_type": "markdown",
   "metadata": {},
   "source": [
    "# Кросс-валидация\n",
    "\n",
    "![](../../images/cross_validation.png)"
   ]
  },
  {
   "cell_type": "markdown",
   "metadata": {},
   "source": [
    "## 5a\n",
    "\n",
    "\n",
    "Разделите исходную выборку на две части, например, используя [slices](https://pythonz.net/references/named/slice/):\n",
    "\n",
    "`dataTrain = data.loc[0:34999,]\n",
    "dataTest = data.loc[35000:69999,]`"
   ]
  },
  {
   "cell_type": "code",
   "execution_count": 16,
   "metadata": {},
   "outputs": [],
   "source": [
    "part = df.shape[0]/2\n",
    "xTrain = df['VehOdo'].loc[0:part,]\n",
    "xTest = df['VehOdo'].loc[part:df.shape[0],]"
   ]
  },
  {
   "cell_type": "markdown",
   "metadata": {},
   "source": [
    "## 5b\n",
    "\n",
    "Проведите кросс-валидационный анализ https://scikit-learn.org/stable/modules/cross_validation.html\n",
    "\n",
    "Проведите несколько экспериментов для различных глубин дерева. Напишите в комментариях, для каких глубин модель недообучена, для каких переобучена и где точка раннего останова.\n",
    "\n",
    "*Функции, которые могут пригодиться при решении: `metrics.accuracy_score() `*"
   ]
  },
  {
   "cell_type": "code",
   "execution_count": 17,
   "metadata": {},
   "outputs": [
    {
     "data": {
      "text/plain": [
       "0.11302632119808723"
      ]
     },
     "execution_count": 17,
     "metadata": {},
     "output_type": "execute_result"
    }
   ],
   "source": [
    "metrics.accuracy_score(y, predClass)"
   ]
  },
  {
   "cell_type": "markdown",
   "metadata": {},
   "source": [
    "*Прокоменитруйте результат здесь:*\n",
    "\n",
    "(Отредактируйте эту ячейку)"
   ]
  },
  {
   "cell_type": "markdown",
   "metadata": {},
   "source": [
    "# Решающая функция\n",
    "## 6a\n",
    "\n",
    "Вернемся к модели решающего дерева глубины 20, построенного по всей обучающей выборке `data`. Пусть цена ошибки неправильного предсказания 0 равна 1000, а неправильного предсказания 1 — 100.\n",
    "\n",
    "Вычислите функцию потерь &mdash; среднюю ошибку на всей обучающей выборке."
   ]
  },
  {
   "cell_type": "code",
   "execution_count": 18,
   "metadata": {},
   "outputs": [
    {
     "data": {
      "text/plain": [
       "0.8869736788019128"
      ]
     },
     "execution_count": 18,
     "metadata": {},
     "output_type": "execute_result"
    }
   ],
   "source": [
    "avg=0\n",
    "for i in range(len(pred)):\n",
    "    if(y.values[i] > 0):\n",
    "        avg+=max(0,(1-predClass[i])-predClass[i])\n",
    "    if(y.values[i] == 0):\n",
    "        avg+=max(0,predClass[i]-(1-predClass[i]))\n",
    "        \n",
    "avg/=len(pred)\n",
    "avg"
   ]
  },
  {
   "cell_type": "markdown",
   "metadata": {},
   "source": [
    "## 6b\n",
    "\n",
    "Выясните, как нужно изменить решающую функцию `[0 if predictionProb[i][0] > 0.5 else 1 for i in range(prediction.shape[0])]`, чтобы функция потерь была минимальна?\n",
    "\n",
    "Найдите оптимальную решающую функцию и минимальное значение функционала потерь.\n",
    "Вы можете решить эту задачу методом подбора, или посмотреть, какие Decision function существуют.\n"
   ]
  },
  {
   "cell_type": "code",
   "execution_count": 19,
   "metadata": {},
   "outputs": [],
   "source": [
    "predClass=[0 if pred[i][0] > 0.5 else 1 for i in range(pred.shape[0])]"
   ]
  },
  {
   "cell_type": "markdown",
   "metadata": {},
   "source": [
    "При любом смещении значение потери увеличивается 0.5 является оптимальным порогом"
   ]
  },
  {
   "cell_type": "code",
   "execution_count": null,
   "metadata": {},
   "outputs": [],
   "source": []
  }
 ],
 "metadata": {
  "kernelspec": {
   "display_name": "Python 3 (ipykernel)",
   "language": "python",
   "name": "python3"
  },
  "language_info": {
   "codemirror_mode": {
    "name": "ipython",
    "version": 3
   },
   "file_extension": ".py",
   "mimetype": "text/x-python",
   "name": "python",
   "nbconvert_exporter": "python",
   "pygments_lexer": "ipython3",
   "version": "3.9.7"
  }
 },
 "nbformat": 4,
 "nbformat_minor": 4
}
